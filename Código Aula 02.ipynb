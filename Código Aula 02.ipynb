{
 "cells": [
  {
   "cell_type": "code",
   "execution_count": null,
   "metadata": {},
   "outputs": [],
   "source": [
    "  #questao 01\n",
    "\n",
    "nome = input(\"Digite seu nome: \")\n",
    "print(f\"Oi, {nome}! Seja bem vindo.\" )"
   ]
  },
  {
   "cell_type": "code",
   "execution_count": null,
   "metadata": {},
   "outputs": [],
   "source": [
    "#questao 02\n",
    "\n",
    "nome = input(\"Digite seu nome: .\")\n",
    "idade = input(\"Digite sua idade: .\")\n",
    "print(f\"Seu nome é {nome},sua idade é {21}.\")"
   ]
  },
  {
   "cell_type": "code",
   "execution_count": null,
   "metadata": {},
   "outputs": [],
   "source": [
    "#questao 03\n",
    "\n",
    "numero1 = int(input(\"Digite o primeiro numero: \"))\n",
    "numero2 = int(input(\"Digite o segundo numero: \"))\n",
    "soma = numero1 + numero2\n",
    "print(f\"A soma do numero1: {numero1} e numero2: {numero2} é {soma}.\")"
   ]
  },
  {
   "cell_type": "code",
   "execution_count": null,
   "metadata": {},
   "outputs": [],
   "source": [
    "#questao 04\n",
    "\n",
    "ano_nascimento = int(input(\"Digite sua data de nascimento: \"))\n",
    "ano_atual = int(input(\"Digite o ano atual: \"))\n",
    "idade = ano_atual - ano_nascimento\n",
    "\n",
    "print(f\"Sua idade é {idade}.\")"
   ]
  },
  {
   "cell_type": "code",
   "execution_count": null,
   "metadata": {},
   "outputs": [],
   "source": [
    "#questao 05\n",
    "\n",
    "celsius = float(input(\"Digite a temperatura em graus celsius: \"))\n",
    "f = ( celsius * 9/5 ) + 32\n",
    "print(f\"O valor em fahrenheit é {f}°f.\")"
   ]
  }
 ],
 "metadata": {
  "kernelspec": {
   "display_name": "Python 3",
   "language": "python",
   "name": "python3"
  },
  "language_info": {
   "codemirror_mode": {
    "name": "ipython",
    "version": 3
   },
   "file_extension": ".py",
   "mimetype": "text/x-python",
   "name": "python",
   "nbconvert_exporter": "python",
   "pygments_lexer": "ipython3",
   "version": "3.12.3"
  }
 },
 "nbformat": 4,
 "nbformat_minor": 2
}
